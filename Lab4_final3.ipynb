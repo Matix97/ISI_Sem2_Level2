{
  "nbformat": 4,
  "nbformat_minor": 0,
  "metadata": {
    "kernelspec": {
      "display_name": "Python 3",
      "language": "python",
      "name": "python3"
    },
    "language_info": {
      "codemirror_mode": {
        "name": "ipython",
        "version": 3
      },
      "file_extension": ".py",
      "mimetype": "text/x-python",
      "name": "python",
      "nbconvert_exporter": "python",
      "pygments_lexer": "ipython3",
      "version": "3.7.5"
    },
    "colab": {
      "name": "Lab4_final3.ipynb",
      "provenance": [],
      "collapsed_sections": [],
      "toc_visible": true
    },
    "accelerator": "GPU"
  },
  "cells": [
    {
      "cell_type": "markdown",
      "metadata": {
        "id": "7mq_Ckcf1M3t"
      },
      "source": [
        "# Laboratorium 4 (4 pkt.)\n",
        "\n",
        "Celem czwartego laboratorium jest zapoznanie się oraz zaimplementowanie algorytmów głębokiego uczenia aktywnego. Zaimplementowane algorytmy będą testowane z wykorzystaniem wcześniej przygotowanych środowisk: *FrozenLake* i *Pacman* oraz środowiska z OpenAI - *CartPole*.\n"
      ]
    },
    {
      "cell_type": "markdown",
      "metadata": {
        "id": "OhnF596W1M32"
      },
      "source": [
        "Dołączenie standardowych bibliotek"
      ]
    },
    {
      "cell_type": "code",
      "metadata": {
        "id": "Is0p5hS91M33"
      },
      "source": [
        "from collections import deque\n",
        "import gym\n",
        "import numpy as np\n",
        "import random"
      ],
      "execution_count": 1,
      "outputs": []
    },
    {
      "cell_type": "markdown",
      "metadata": {
        "id": "Ox38eJf_1M34"
      },
      "source": [
        "Dołączenie bibliotek ze środowiskami:"
      ]
    },
    {
      "cell_type": "code",
      "metadata": {
        "colab": {
          "base_uri": "https://localhost:8080/"
        },
        "id": "J7vjn-ub1Zml",
        "outputId": "ce52520f-e896-4dd6-a01f-6b9cd9239690"
      },
      "source": [
        "from google.colab import drive\n",
        "drive.mount('/content/drive')"
      ],
      "execution_count": null,
      "outputs": [
        {
          "output_type": "stream",
          "text": [
            "Mounted at /content/drive\n"
          ],
          "name": "stdout"
        }
      ]
    },
    {
      "cell_type": "code",
      "metadata": {
        "id": "zxWnuGX41M34"
      },
      "source": [
        "!cp /content/drive/MyDrive/ISI/env/FrozenLakeMDP.py .\n",
        "!cp /content/drive/MyDrive/ISI/env/FrozenLakeMDPExtended.py .\n",
        "from FrozenLakeMDP import frozenLake\n",
        "from FrozenLakeMDPExtended import frozenLakeExtended\n"
      ],
      "execution_count": null,
      "outputs": []
    },
    {
      "cell_type": "markdown",
      "metadata": {
        "id": "kveJ-fju1M35"
      },
      "source": [
        "Dołączenie bibliotek do obsługi sieci neuronowych"
      ]
    },
    {
      "cell_type": "code",
      "metadata": {
        "colab": {
          "base_uri": "https://localhost:8080/"
        },
        "id": "X19VCMoV1M35",
        "outputId": "2914e262-3794-4454-fd83-acedb65f8f19"
      },
      "source": [
        "%tensorflow_version 1.x\r\n",
        "from keras import Model\r\n",
        "from keras.layers import Dense\r\n",
        "from keras.models import Sequential\r\n",
        "from keras.optimizers import Adam\r\n",
        "from keras.utils import to_categorical"
      ],
      "execution_count": 2,
      "outputs": [
        {
          "output_type": "stream",
          "text": [
            "TensorFlow 1.x selected.\n"
          ],
          "name": "stdout"
        },
        {
          "output_type": "stream",
          "text": [
            "Using TensorFlow backend.\n"
          ],
          "name": "stderr"
        }
      ]
    },
    {
      "cell_type": "markdown",
      "metadata": {
        "id": "iCVRTso21M36"
      },
      "source": [
        "## Zadanie 1 - Deep Q-Network\n",
        "\n",
        "<p style='text-align: justify;'>\n",
        "Celem ćwiczenie jest zaimplementowanie algorytmu Deep Q-Network. Wartoscią oczekiwaną sieci jest:\n",
        "\\begin{equation}\n",
        "        Q(s_t, a_t) = r_{t+1} + \\gamma \\text{max}_a Q(s_{t + 1}, a)\n",
        "\\end{equation}\n",
        "</p>"
      ]
    },
    {
      "cell_type": "code",
      "metadata": {
        "id": "6DEfi4Uy1M37"
      },
      "source": [
        "class DQNAgent:\n",
        "    def __init__(self, action_size, learning_rate, model, get_legal_actions):\n",
        "        self.action_size = action_size\n",
        "        self.memory = deque(maxlen=2000)\n",
        "        self.gamma = 0.95    # discount rate\n",
        "        self.epsilon = 1.0  # exploration rate\n",
        "        self.epsilon_min = 0.01\n",
        "        self.epsilon_decay = 0.999\n",
        "        self.learning_rate = learning_rate\n",
        "        self.model = model\n",
        "        \n",
        "        self.get_legal_actions = get_legal_actions\n",
        "\n",
        "    def remember(self, state, action, reward, next_state, done):\n",
        "        #Function adds information to the memory about last action and its results\n",
        "        self.memory.append((state, action, reward, next_state, done)) \n",
        "\n",
        "    def get_action(self, state):\n",
        "        possible_actions = self.get_legal_actions(state)  \n",
        "        epsilon = self.epsilon  \n",
        "        if random.random()<epsilon:\n",
        "            chosen_action = random.choice(possible_actions)\n",
        "        else:   \n",
        "            chosen_action = self.get_best_action(state) \n",
        "        return chosen_action\n",
        "\n",
        "  \n",
        "    def get_best_action(self, state):\n",
        "        best_actions = self.model.predict(state)\n",
        "        #print(\"BEST: \",best_actions)\n",
        "        best_action = np.argmax(best_actions)\n",
        "        #s 83  'numpy.int64' object is not iterable  max(best_action[0]) \n",
        "        #print(best_action)\n",
        "        return best_action\n",
        "\n",
        "\n",
        "    def replay(self, batch_size):\n",
        "\n",
        "      if batch_size >     len(self.memory):\n",
        "        raise NameError('!!! To BIG batch_size !!! Should be lower than: ',len(self.memory))\n",
        "\n",
        "      nasz_batch = random.sample(self.memory,batch_size)\n",
        "      x = []\n",
        "      y = []\n",
        "      for sample in nasz_batch:#wy\n",
        "          state, action, reward, next_state, done = sample\n",
        "          x.append(state.flatten())\n",
        "          target = self.model.predict(state)\n",
        "          #print(target)\n",
        "          if done:\n",
        "            target[0][action] = reward\n",
        "          else:\n",
        "            target[0][action] = reward + self.gamma * max(self.model.predict(next_state)[0])\n",
        "          y.append(target.flatten())\n",
        "\n",
        "      self.model.train_on_batch(np.array(x), np.array(y))\n",
        "      self.update_epsilon_value()\n",
        "        \n",
        "        \n",
        "\n",
        "    def update_epsilon_value(self):\n",
        "      temp = self.epsilon*self.epsilon_decay\n",
        "      if temp < self.epsilon_min:\n",
        "          self.epsilon = self.epsilon_min\n",
        "      else:\n",
        "          self.epsilon = temp"
      ],
      "execution_count": null,
      "outputs": []
    },
    {
      "cell_type": "markdown",
      "metadata": {
        "id": "qfI9m3nN1M38"
      },
      "source": [
        "Czas przygotować model sieci, która będzie się uczyła poruszania po środowisku *FrozenLake*, warstwa wejściowa powinna mieć tyle neuronów ile jest możlliwych stanów, warstwa wyjściowa tyle neuronów ile jest możliwych akcji do wykonania:"
      ]
    },
    {
      "cell_type": "code",
      "metadata": {
        "colab": {
          "base_uri": "https://localhost:8080/"
        },
        "id": "XsMyGpFr-86H",
        "outputId": "67b773b5-d390-4eb1-ccac-09e82dcc1f03"
      },
      "source": [
        "env = frozenLake(\"8x8\")\r\n",
        "\r\n",
        "state_size = env.get_number_of_states()\r\n",
        "action_size = len(env.get_possible_actions(None))\r\n",
        "learning_rate = 0.001\r\n",
        "print(state_size)\r\n",
        "print(action_size)"
      ],
      "execution_count": null,
      "outputs": [
        {
          "output_type": "stream",
          "text": [
            "64\n",
            "4\n"
          ],
          "name": "stdout"
        }
      ]
    },
    {
      "cell_type": "code",
      "metadata": {
        "id": "HQJGiVD01M39"
      },
      "source": [
        "env = frozenLake(\"8x8\")\n",
        "\n",
        "state_size = env.get_number_of_states()\n",
        "action_size = len(env.get_possible_actions(None))\n",
        "learning_rate = 0.001\n",
        "\n",
        "model = [\n",
        "    Dense(16, input_dim=state_size,activation='relu'),\n",
        "    Dense(32,activation='relu'),\n",
        "    #Dropout(0.5),\n",
        "    Dense(16,activation='relu'),\n",
        "    Dense(action_size)#,activation='softmax'\n",
        "] \n",
        "model = Sequential(model)\n",
        "model.compile(loss=\"mean_squared_error\",\n",
        "             optimizer=Adam(lr=learning_rate))"
      ],
      "execution_count": null,
      "outputs": []
    },
    {
      "cell_type": "markdown",
      "metadata": {
        "id": "sGKqcvED1M39"
      },
      "source": [
        " Czas nauczyć agenta poruszania się po środowisku *FrozenLake*, jako stan przyjmij wektor o liczbie elementów równej liczbie możliwych stanów, z wartością 1 ustawioną w komórce o indeksie równym aktualnemu stanowi, pozostałe elementy mają być wypełnione zerami:\n",
        "* 1 pkt < 35 epok,\n",
        "* 0.5 pkt < 60 epok,\n",
        "* 0.25 pkt - w pozostałych przypadkach."
      ]
    },
    {
      "cell_type": "code",
      "metadata": {
        "colab": {
          "base_uri": "https://localhost:8080/"
        },
        "id": "7OE_1mK11M39",
        "outputId": "d6eb16b6-c92d-462f-c8cb-416653df41d5"
      },
      "source": [
        "agent = DQNAgent(action_size, learning_rate, model, env.get_possible_actions)#0.999\n",
        "\n",
        "agent.epsilon = 0.75\n",
        "\n",
        "done = False\n",
        "batch_size = 64\n",
        "EPISODES = 10000\n",
        "counter = 0\n",
        "for e in range(EPISODES):\n",
        "\n",
        "    summary = []\n",
        "    for _ in range(100):\n",
        "        total_reward = 0\n",
        "        env_state = env.reset()\n",
        "    \n",
        "        #\n",
        "        # INSERT CODE HERE to prepare appropriate format of the state for network\n",
        "        #\n",
        "        state = np.array([to_categorical(env_state, num_classes=state_size)])\n",
        "        \n",
        "        for time in range(1000):\n",
        "            action = agent.get_action(state)\n",
        "            next_state_env, reward, done, _ = env.step(action)\n",
        "            total_reward += reward\n",
        "\n",
        "            #\n",
        "            # INSERT CODE HERE to prepare appropriate format of the next state for network\n",
        "            #\n",
        "            next_state = np.array([to_categorical(next_state_env, num_classes=state_size)])\n",
        "\n",
        "            #add to experience memory\n",
        "            agent.remember(state, action, reward, next_state, done)\n",
        "            state = next_state\n",
        "            if done:\n",
        "                break\n",
        "\n",
        "        #\n",
        "        # INSERT CODE HERE to train network if in the memory is more samples then size of the batch\n",
        "        #\n",
        "        if len(agent.memory) > batch_size:\n",
        "          agent.replay(batch_size)\n",
        "        \n",
        "        summary.append(total_reward)\n",
        "    print(\"epoch #{}\\tmean reward = {:.3f}\\tepsilon = {:.3f}\".format(e, np.mean(summary), agent.epsilon))\n",
        "    if np.mean(summary) > 0.9:\n",
        "        print (\"You Win!\")\n",
        "        break"
      ],
      "execution_count": null,
      "outputs": [
        {
          "output_type": "stream",
          "text": [
            "WARNING:tensorflow:From /tensorflow-1.15.2/python3.6/keras/backend/tensorflow_backend.py:422: The name tf.global_variables is deprecated. Please use tf.compat.v1.global_variables instead.\n",
            "\n",
            "epoch #0\tmean reward = 0.000\tepsilon = 0.680\n",
            "epoch #1\tmean reward = 0.010\tepsilon = 0.615\n",
            "epoch #2\tmean reward = 0.000\tepsilon = 0.557\n",
            "epoch #3\tmean reward = 0.010\tepsilon = 0.504\n",
            "epoch #4\tmean reward = 0.000\tepsilon = 0.456\n",
            "epoch #5\tmean reward = 0.010\tepsilon = 0.412\n",
            "epoch #6\tmean reward = 0.010\tepsilon = 0.373\n",
            "epoch #7\tmean reward = 0.030\tepsilon = 0.338\n",
            "epoch #8\tmean reward = 0.070\tepsilon = 0.305\n",
            "epoch #9\tmean reward = 0.100\tepsilon = 0.276\n",
            "epoch #10\tmean reward = 0.390\tepsilon = 0.250\n",
            "epoch #11\tmean reward = 0.000\tepsilon = 0.226\n",
            "epoch #12\tmean reward = 0.030\tepsilon = 0.205\n",
            "epoch #13\tmean reward = 0.130\tepsilon = 0.185\n",
            "epoch #14\tmean reward = 0.620\tepsilon = 0.168\n",
            "epoch #15\tmean reward = 0.350\tepsilon = 0.152\n",
            "epoch #16\tmean reward = 0.630\tepsilon = 0.137\n",
            "epoch #17\tmean reward = 0.780\tepsilon = 0.124\n",
            "epoch #18\tmean reward = 0.910\tepsilon = 0.112\n",
            "You Win!\n"
          ],
          "name": "stdout"
        }
      ]
    },
    {
      "cell_type": "code",
      "metadata": {
        "id": "I1UcF2y471nw"
      },
      "source": [
        "model = [\r\n",
        "    Dense(64, input_dim=state_size,activation='relu'),\r\n",
        "    Dense(256,activation='relu'),\r\n",
        "    #Dropout(0.5),\r\n",
        "    Dense(32,activation='relu'),\r\n",
        "    Dense(action_size)#,activation='softmax'\r\n",
        "] \r\n",
        "model = Sequential(model)\r\n",
        "model.compile(loss=\"mean_squared_error\",\r\n",
        "             optimizer=Adam(lr=learning_rate))"
      ],
      "execution_count": null,
      "outputs": []
    },
    {
      "cell_type": "code",
      "metadata": {
        "colab": {
          "base_uri": "https://localhost:8080/"
        },
        "id": "8OnGTUd5790a",
        "outputId": "2c0e9f18-09a9-49dd-9d8e-e97a0b1079f3"
      },
      "source": [
        "agent = DQNAgent(action_size, learning_rate, model, env.get_possible_actions)\r\n",
        "\r\n",
        "agent.epsilon = 0.75\r\n",
        "\r\n",
        "done = False\r\n",
        "batch_size = 64\r\n",
        "EPISODES = 10000\r\n",
        "counter = 0\r\n",
        "for e in range(EPISODES):\r\n",
        "\r\n",
        "    summary = []\r\n",
        "    for _ in range(100):\r\n",
        "        total_reward = 0\r\n",
        "        env_state = env.reset()\r\n",
        "    \r\n",
        "        #\r\n",
        "        # INSERT CODE HERE to prepare appropriate format of the state for network\r\n",
        "        #\r\n",
        "        state = np.array([to_categorical(env_state, num_classes=state_size)])\r\n",
        "        \r\n",
        "        for time in range(1000):\r\n",
        "            action = agent.get_action(state)\r\n",
        "            next_state_env, reward, done, _ = env.step(action)\r\n",
        "            total_reward += reward\r\n",
        "\r\n",
        "            #\r\n",
        "            # INSERT CODE HERE to prepare appropriate format of the next state for network\r\n",
        "            #\r\n",
        "            next_state = np.array([to_categorical(next_state_env, num_classes=state_size)])\r\n",
        "\r\n",
        "            #add to experience memory\r\n",
        "            agent.remember(state, action, reward, next_state, done)\r\n",
        "            state = next_state\r\n",
        "            if done:\r\n",
        "                break\r\n",
        "\r\n",
        "        #\r\n",
        "        # INSERT CODE HERE to train network if in the memory is more samples then size of the batch\r\n",
        "        #\r\n",
        "        if len(agent.memory) > batch_size:\r\n",
        "          agent.replay(batch_size)\r\n",
        "        \r\n",
        "        summary.append(total_reward)\r\n",
        "    print(\"epoch #{}\\tmean reward = {:.3f}\\tepsilon = {:.3f}\".format(e, np.mean(summary), agent.epsilon))\r\n",
        "    if np.mean(summary) > 0.9:\r\n",
        "        print (\"You Win!\")\r\n",
        "        break"
      ],
      "execution_count": null,
      "outputs": [
        {
          "output_type": "stream",
          "text": [
            "epoch #0\tmean reward = 0.000\tepsilon = 0.679\n",
            "epoch #1\tmean reward = 0.000\tepsilon = 0.615\n",
            "epoch #2\tmean reward = 0.000\tepsilon = 0.556\n",
            "epoch #3\tmean reward = 0.030\tepsilon = 0.503\n",
            "epoch #4\tmean reward = 0.010\tepsilon = 0.455\n",
            "epoch #5\tmean reward = 0.000\tepsilon = 0.412\n",
            "epoch #6\tmean reward = 0.080\tepsilon = 0.373\n",
            "epoch #7\tmean reward = 0.120\tepsilon = 0.337\n",
            "epoch #8\tmean reward = 0.070\tepsilon = 0.305\n",
            "epoch #9\tmean reward = 0.240\tepsilon = 0.276\n",
            "epoch #10\tmean reward = 0.330\tepsilon = 0.250\n",
            "epoch #11\tmean reward = 0.190\tepsilon = 0.226\n",
            "epoch #12\tmean reward = 0.060\tepsilon = 0.204\n",
            "epoch #13\tmean reward = 0.400\tepsilon = 0.185\n",
            "epoch #14\tmean reward = 0.220\tepsilon = 0.167\n",
            "epoch #15\tmean reward = 0.440\tepsilon = 0.151\n",
            "epoch #16\tmean reward = 0.590\tepsilon = 0.137\n",
            "epoch #17\tmean reward = 0.410\tepsilon = 0.124\n",
            "epoch #18\tmean reward = 0.210\tepsilon = 0.112\n",
            "epoch #19\tmean reward = 0.440\tepsilon = 0.102\n",
            "epoch #20\tmean reward = 0.270\tepsilon = 0.092\n",
            "epoch #21\tmean reward = 0.280\tepsilon = 0.083\n",
            "epoch #22\tmean reward = 0.740\tepsilon = 0.075\n",
            "epoch #23\tmean reward = 0.850\tepsilon = 0.068\n",
            "epoch #24\tmean reward = 0.780\tepsilon = 0.062\n",
            "epoch #25\tmean reward = 0.890\tepsilon = 0.056\n",
            "epoch #26\tmean reward = 0.860\tepsilon = 0.050\n",
            "epoch #27\tmean reward = 0.880\tepsilon = 0.046\n",
            "epoch #28\tmean reward = 0.460\tepsilon = 0.041\n",
            "epoch #29\tmean reward = 0.500\tepsilon = 0.037\n",
            "epoch #30\tmean reward = 0.930\tepsilon = 0.034\n",
            "You Win!\n"
          ],
          "name": "stdout"
        }
      ]
    },
    {
      "cell_type": "markdown",
      "metadata": {
        "id": "adcY2I5y1M3-"
      },
      "source": [
        "Czas przygotować model sieci, która będzie się uczyła poruszania po środowisku *FrozenLakeExtended*, tym razem stan nie jest określany poprzez pojedynczą liczbę, a przez 3 tablice:\n",
        "* pierwsza zawierająca informacje o celu,\n",
        "* druga zawierająca informacje o dziurach,\n",
        "* trzecia zawierająca informację o położeniu gracza."
      ]
    },
    {
      "cell_type": "code",
      "metadata": {
        "id": "D6B0o9yD1M3-"
      },
      "source": [
        "env = frozenLakeExtended(\"4x4\")\n",
        "\n",
        "state_size = env.get_number_of_states()\n",
        "action_size = len(env.get_possible_actions(None))\n",
        "learning_rate = 0.001\n",
        "state_size *= 3\n",
        "\n",
        "model = [\n",
        "    Dense(16, input_dim=state_size,activation='relu'),\n",
        "    Dense(32,activation='relu'),\n",
        "    #Dropout(0.5),\n",
        "    Dense(16,activation='relu'),\n",
        "    Dense(action_size)#,activation='softmax'\n",
        "] \n",
        "model = Sequential(model)\n",
        "model.compile(loss=\"mean_squared_error\",\n",
        "             optimizer=Adam(lr=learning_rate))"
      ],
      "execution_count": null,
      "outputs": []
    },
    {
      "cell_type": "markdown",
      "metadata": {
        "id": "oEsbERmR1M3-"
      },
      "source": [
        " Czas nauczyć agenta poruszania się po środowisku *FrozenLakeExtended*, jako stan przyjmij wektor składający się ze wszystkich trzech tablic (2 pkt.):"
      ]
    },
    {
      "cell_type": "code",
      "metadata": {
        "colab": {
          "base_uri": "https://localhost:8080/"
        },
        "id": "BXmJP0mG1M3_",
        "outputId": "b0c6f0d2-1c53-42ca-9c83-ffd0990fb347"
      },
      "source": [
        "agent = DQNAgent(action_size, learning_rate, model, env.get_possible_actions )\n",
        "\n",
        "agent.epsilon = 0.75\n",
        "\n",
        "done = False\n",
        "batch_size = 64\n",
        "EPISODES = 2000\n",
        "counter = 0\n",
        "for e in range(EPISODES):\n",
        "    summary = []\n",
        "    for _ in range(100):\n",
        "        total_reward = 0\n",
        "        env_state = env.reset()\n",
        "    \n",
        "        #\n",
        "        # INSERT CODE HERE to prepare appropriate format of the state for network\n",
        "        #\n",
        "        state = np.array([np.array(env_state).flatten()])\n",
        "        for time in range(1000):\n",
        "            action = agent.get_action(state)\n",
        "            next_state_env, reward, done, _ = env.step(action)\n",
        "            total_reward += reward\n",
        "\n",
        "            #\n",
        "            # INSERT CODE HERE to prepare appropriate format of the next state for network\n",
        "            #\n",
        "            next_state = np.array([np.array(next_state_env).flatten()])\n",
        "            #add to experience memory\n",
        "            agent.remember(state, action, reward, next_state, done)\n",
        "            state = next_state\n",
        "            if done:\n",
        "                break\n",
        "\n",
        "        #\n",
        "        # INSERT CODE HERE to train network if in the memory is more samples then size of the batch\n",
        "        #\n",
        "        if len(agent.memory) > batch_size:\n",
        "          agent.replay(batch_size)\n",
        "        \n",
        "        summary.append(total_reward)\n",
        "    if np.mean(summary) > 0.9:\n",
        "        print (\"You Win!\")\n",
        "        break\n",
        "    print(\"epoch #{}\\tmean reward = {:.3f}\\tepsilon = {:.3f}\".format(e, np.mean(summary), agent.epsilon))"
      ],
      "execution_count": null,
      "outputs": [
        {
          "output_type": "stream",
          "text": [
            "epoch #0\tmean reward = 0.000\tepsilon = 0.681\n",
            "epoch #1\tmean reward = 0.000\tepsilon = 0.616\n",
            "epoch #2\tmean reward = 0.030\tepsilon = 0.557\n",
            "epoch #3\tmean reward = 0.260\tepsilon = 0.504\n",
            "epoch #4\tmean reward = 0.150\tepsilon = 0.456\n",
            "epoch #5\tmean reward = 0.260\tepsilon = 0.413\n",
            "epoch #6\tmean reward = 0.430\tepsilon = 0.373\n",
            "epoch #7\tmean reward = 0.560\tepsilon = 0.338\n",
            "epoch #8\tmean reward = 0.610\tepsilon = 0.306\n",
            "epoch #9\tmean reward = 0.560\tepsilon = 0.277\n",
            "epoch #10\tmean reward = 0.590\tepsilon = 0.250\n",
            "epoch #11\tmean reward = 0.730\tepsilon = 0.226\n",
            "epoch #12\tmean reward = 0.840\tepsilon = 0.205\n",
            "epoch #13\tmean reward = 0.770\tepsilon = 0.185\n",
            "epoch #14\tmean reward = 0.860\tepsilon = 0.168\n",
            "epoch #15\tmean reward = 0.780\tepsilon = 0.152\n",
            "epoch #16\tmean reward = 0.640\tepsilon = 0.137\n",
            "epoch #17\tmean reward = 0.820\tepsilon = 0.124\n",
            "epoch #18\tmean reward = 0.900\tepsilon = 0.112\n",
            "epoch #19\tmean reward = 0.870\tepsilon = 0.102\n",
            "epoch #20\tmean reward = 0.820\tepsilon = 0.092\n",
            "epoch #21\tmean reward = 0.810\tepsilon = 0.083\n",
            "epoch #22\tmean reward = 0.890\tepsilon = 0.075\n",
            "epoch #23\tmean reward = 0.800\tepsilon = 0.068\n",
            "epoch #24\tmean reward = 0.430\tepsilon = 0.062\n",
            "You Win!\n"
          ],
          "name": "stdout"
        }
      ]
    },
    {
      "cell_type": "markdown",
      "metadata": {
        "id": "286vav1T1M4A"
      },
      "source": [
        "Czas przygotować model sieci, która będzie się uczyła działania w środowisku [*CartPool*](https://gym.openai.com/envs/CartPole-v0/):"
      ]
    },
    {
      "cell_type": "code",
      "metadata": {
        "id": "tNBYvJwD1M4A",
        "colab": {
          "base_uri": "https://localhost:8080/"
        },
        "outputId": "c1c4f4e3-53a5-445d-82e7-3c8608607eae"
      },
      "source": [
        "env = gym.make(\"CartPole-v0\").env\n",
        "state_size = env.observation_space.shape[0]\n",
        "action_size = env.action_space.n\n",
        "learning_rate = 0.001\n",
        "# PO 10 rewaerd 61\n",
        "# model = [\n",
        "#     Dense(16, input_dim=state_size,activation='relu'),\n",
        "#     Dense(32,activation='relu'),\n",
        "#     #Dropout(0.5),\n",
        "#     Dense(16,activation='relu'),\n",
        "#     Dense(action_size)#,activation='softmax'\n",
        "# ] \n",
        "# model = Sequential(model)\n",
        "# model.compile(loss=\"mean_squared_error\",\n",
        "#              optimizer=Adam(lr=learning_rate))\n",
        "# PO 6 reaward 97 i waliło oclaba\n",
        "# model = [\n",
        "#     Dense(64, input_dim=state_size,activation='relu'),\n",
        "#     Dense(256,activation='relu'),\n",
        "#     #Dropout(0.5),\n",
        "#     Dense(32,activation='relu'),\n",
        "#     Dense(action_size)#,activation='softmax'\n",
        "# ] \n",
        "# model = Sequential(model)\n",
        "# model.compile(loss=\"mean_squared_error\",\n",
        "#              optimizer=Adam(lr=learning_rate))\n",
        "model = [\n",
        "    Dense(64, input_dim=state_size,activation='relu'),#ten super, wygrywa w 7 przjsciu\n",
        "    Dense(128,activation='relu'),\n",
        "    Dense(256,activation='relu'),\n",
        "    #Dropout(0.5),\n",
        "    Dense(64,activation='relu'),\n",
        "    Dense(16,activation='relu'),\n",
        "    Dense(action_size)#,activation='softmax'\n",
        "] \n",
        "model = Sequential(model)\n",
        "model.compile(loss=\"mean_squared_error\",\n",
        "             optimizer=Adam(lr=learning_rate))"
      ],
      "execution_count": 7,
      "outputs": [
        {
          "output_type": "stream",
          "text": [
            "WARNING:tensorflow:From /tensorflow-1.15.2/python3.6/tensorflow_core/python/ops/resource_variable_ops.py:1630: calling BaseResourceVariable.__init__ (from tensorflow.python.ops.resource_variable_ops) with constraint is deprecated and will be removed in a future version.\n",
            "Instructions for updating:\n",
            "If using Keras pass *_constraint arguments to layers.\n"
          ],
          "name": "stdout"
        }
      ]
    },
    {
      "cell_type": "markdown",
      "metadata": {
        "id": "SYJ7KsV31M4A"
      },
      "source": [
        "Czas nauczyć agenta gry w środowisku *CartPool*:\n",
        "* 1 pkt < 10 epok,\n",
        "* 0.5 pkt < 20 epok,\n",
        "* 0.25 pkt - w pozostałych przypadkach."
      ]
    },
    {
      "cell_type": "code",
      "metadata": {
        "colab": {
          "base_uri": "https://localhost:8080/"
        },
        "id": "jKXvEyHc1M4B",
        "outputId": "0f1268ef-f426-4566-d5ba-6955c0530457"
      },
      "source": [
        "import types#epsilon_decay = 0.999\n",
        "def get_possible_actions(self, state):\n",
        "    \"\"\" return a tuple of possible actions in a given state \"\"\"\n",
        "    return [0,1]\n",
        "env.get_possible_actions = types.MethodType(get_possible_actions, env)\n",
        "#, type(env).__name__\n",
        "\n",
        "agent = DQNAgent(action_size, learning_rate, model, env.get_possible_actions)\n",
        "\n",
        "agent.epsilon = 0.75\n",
        "\n",
        "done = False\n",
        "batch_size = 64\n",
        "EPISODES = 1000\n",
        "counter = 0\n",
        "for e in range(EPISODES):\n",
        "    summary = []\n",
        "    for _ in range(100):\n",
        "        total_reward = 0\n",
        "        env_state = env.reset()\n",
        "    \n",
        "        #\n",
        "        # INSERT CODE HERE to prepare appropriate format of the state for network\n",
        "        #\n",
        "        #print(env_state)\n",
        "        state = np.array([np.array(env_state).flatten()])\n",
        "        \n",
        "        for time in range(300):\n",
        "            action = agent.get_action(state)\n",
        "            next_state_env, reward, done, _ = env.step(action)\n",
        "            total_reward += reward\n",
        "\n",
        "            #\n",
        "            # INSERT CODE HERE to prepare appropriate format of the next state for network\n",
        "            #\n",
        "            next_state = np.array([np.array(next_state_env).flatten()])\n",
        "            #add to experience memory\n",
        "            agent.remember(state, action, reward, next_state, done)\n",
        "            state = next_state\n",
        "            if done:\n",
        "                break\n",
        "\n",
        "        #\n",
        "        # INSERT CODE HERE to train network if in the memory is more samples then size of the batch\n",
        "        #\n",
        "        if len(agent.memory) > batch_size:\n",
        "          agent.replay(batch_size)\n",
        "        summary.append(total_reward)\n",
        "    if np.mean(summary) > 195:\n",
        "        print (\"You Win!\")\n",
        "        break\n",
        "    print(\"epoch #{}\\tmean reward = {:.3f}\\tepsilon = {:.3f}\".format(e, np.mean(summary), agent.epsilon))"
      ],
      "execution_count": null,
      "outputs": [
        {
          "output_type": "stream",
          "text": [
            "epoch #0\tmean reward = 17.580\tepsilon = 0.680\n",
            "epoch #1\tmean reward = 20.050\tepsilon = 0.615\n",
            "epoch #2\tmean reward = 27.340\tepsilon = 0.557\n",
            "epoch #3\tmean reward = 45.800\tepsilon = 0.504\n",
            "epoch #4\tmean reward = 115.620\tepsilon = 0.456\n",
            "epoch #5\tmean reward = 175.540\tepsilon = 0.412\n",
            "epoch #6\tmean reward = 187.800\tepsilon = 0.373\n",
            "You Win!\n"
          ],
          "name": "stdout"
        }
      ]
    },
    {
      "cell_type": "code",
      "metadata": {
        "id": "yiwAbODOAvhR",
        "colab": {
          "base_uri": "https://localhost:8080/"
        },
        "outputId": "1604ef7f-4e88-4393-fa53-e5f773a7e544"
      },
      "source": [
        "import types   #epsilon_decay = 0.99\r\n",
        "def get_possible_actions(self, state):\r\n",
        "    \"\"\" return a tuple of possible actions in a given state \"\"\"\r\n",
        "    return [0,1]\r\n",
        "env.get_possible_actions = types.MethodType(get_possible_actions, env)\r\n",
        "#, type(env).__name__\r\n",
        "\r\n",
        "agent = DQNAgent(action_size, learning_rate, model, env.get_possible_actions)\r\n",
        "\r\n",
        "agent.epsilon = 0.75\r\n",
        "\r\n",
        "done = False\r\n",
        "batch_size = 64\r\n",
        "EPISODES = 1000\r\n",
        "counter = 0\r\n",
        "for e in range(EPISODES):\r\n",
        "    summary = []\r\n",
        "    for _ in range(100):\r\n",
        "        total_reward = 0\r\n",
        "        env_state = env.reset()\r\n",
        "    \r\n",
        "        #\r\n",
        "        # INSERT CODE HERE to prepare appropriate format of the state for network\r\n",
        "        #\r\n",
        "        state = np.array([np.array(env_state).flatten()])\r\n",
        "        \r\n",
        "        for time in range(300):\r\n",
        "            action = agent.get_action(state)\r\n",
        "            next_state_env, reward, done, _ = env.step(action)\r\n",
        "            total_reward += reward\r\n",
        "\r\n",
        "            #\r\n",
        "            # INSERT CODE HERE to prepare appropriate format of the next state for network\r\n",
        "            #\r\n",
        "            next_state = np.array([np.array(next_state_env).flatten()])\r\n",
        "            #add to experience memory\r\n",
        "            agent.remember(state, action, reward, next_state, done)\r\n",
        "            state = next_state\r\n",
        "            if done:\r\n",
        "                break\r\n",
        "\r\n",
        "        #\r\n",
        "        # INSERT CODE HERE to train network if in the memory is more samples then size of the batch\r\n",
        "        #\r\n",
        "        if len(agent.memory) > batch_size:\r\n",
        "          agent.replay(batch_size)\r\n",
        "        summary.append(total_reward)\r\n",
        "    if np.mean(summary) > 195:\r\n",
        "        print (\"You Win!\")\r\n",
        "        break\r\n",
        "    print(\"epoch #{}\\tmean reward = {:.3f}\\tepsilon = {:.3f}\".format(e, np.mean(summary), agent.epsilon))"
      ],
      "execution_count": null,
      "outputs": [
        {
          "output_type": "stream",
          "text": [
            "WARNING:tensorflow:From /tensorflow-1.15.2/python3.6/keras/backend/tensorflow_backend.py:422: The name tf.global_variables is deprecated. Please use tf.compat.v1.global_variables instead.\n",
            "\n",
            "epoch #0\tmean reward = 13.290\tepsilon = 0.286\n",
            "epoch #1\tmean reward = 16.020\tepsilon = 0.105\n",
            "epoch #2\tmean reward = 50.770\tepsilon = 0.038\n",
            "epoch #3\tmean reward = 161.320\tepsilon = 0.014\n",
            "You Win!\n"
          ],
          "name": "stdout"
        }
      ]
    },
    {
      "cell_type": "code",
      "metadata": {
        "id": "7bC8FYY1Bwny"
      },
      "source": [
        ""
      ],
      "execution_count": null,
      "outputs": []
    }
  ]
}