{
  "nbformat": 4,
  "nbformat_minor": 0,
  "metadata": {
    "kernelspec": {
      "display_name": "Python 3",
      "language": "python",
      "name": "python3"
    },
    "language_info": {
      "codemirror_mode": {
        "name": "ipython",
        "version": 3
      },
      "file_extension": ".py",
      "mimetype": "text/x-python",
      "name": "python",
      "nbconvert_exporter": "python",
      "pygments_lexer": "ipython3",
      "version": "3.7.5"
    },
    "colab": {
      "name": "Lab. 5.ipynb",
      "provenance": [],
      "collapsed_sections": []
    },
    "accelerator": "GPU"
  },
  "cells": [
    {
      "cell_type": "markdown",
      "metadata": {
        "id": "-gJI7RMzI92Z"
      },
      "source": [
        "# Laboratorium 5 (4 pkt)\n",
        "\n",
        "Celem czwartego laboratorium jest zapoznanie się oraz zaimplementowanie algorytmów głębokiego uczenia aktywnego. Zaimplementowane algorytmy będą testowane z wykorzystaniem środowiska z OpenAI - *CartPole*.\n"
      ]
    },
    {
      "cell_type": "markdown",
      "metadata": {
        "id": "-eOlfQS2I92v"
      },
      "source": [
        "Dołączenie standardowych bibliotek"
      ]
    },
    {
      "cell_type": "code",
      "metadata": {
        "id": "i7MEGVGNI92y"
      },
      "source": [
        "from collections import deque\n",
        "import gym\n",
        "import numpy as np\n",
        "import random"
      ],
      "execution_count": null,
      "outputs": []
    },
    {
      "cell_type": "markdown",
      "metadata": {
        "id": "76h0mdAlI92z"
      },
      "source": [
        "Dołączenie bibliotek do obsługi sieci neuronowych"
      ]
    },
    {
      "cell_type": "code",
      "metadata": {
        "id": "_jIV3C1_I920"
      },
      "source": [
        "%tensorflow_version 1.x\r\n",
        "from keras import Model\r\n",
        "from keras.layers import Dense\r\n",
        "from keras.models import Sequential\r\n",
        "from keras.optimizers import Adam\r\n",
        "from keras.utils import to_categorical"
      ],
      "execution_count": null,
      "outputs": []
    },
    {
      "cell_type": "markdown",
      "metadata": {
        "id": "-SorlIkfI921"
      },
      "source": [
        "## Zadanie 1 - Double Deep Q-Network\n",
        "\n",
        "<p style='text-align: justify;'>\n",
        "Celem ćwiczenie jest zaimplementowanie algorytmu Double Deep Q-Network. Wartoscią oczekiwaną sieci jest:\n",
        "\\begin{equation}\n",
        "       Q^*(s, a) \\approx r + \\gamma argmax_{a'}Q_\\theta'(s', a') \n",
        "\\end{equation}\n",
        "a wagi pomiędzy sieciami wymieniane są co dziesięć aktualizacji wag sieci sterującej poczynaniami agenta ($Q$).\n",
        "</p>"
      ]
    },
    {
      "cell_type": "code",
      "metadata": {
        "id": "W6KYH6HeI922"
      },
      "source": [
        "class DDQNAgent:\n",
        "    def __init__(self, state_size, action_size, get_legal_actions, input_model):\n",
        "        self.state_size = state_size\n",
        "        self.action_size = action_size\n",
        "        self.memory = deque(maxlen=2000)\n",
        "        self.gamma = 0.95    # discount rate\n",
        "        self.epsilon = 0.5  # exploration rate\n",
        "        self.epsilon_min = 0.01\n",
        "        self.epsilon_decay = 0.99#0.95\n",
        "        self.learning_rate = 0.001\n",
        "        # self.model = self._build_model()\n",
        "        # self.target_model = self._build_model()\n",
        "        self.model = input_model\n",
        "        self.target_model = input_model\n",
        "        self.update_weights()\n",
        "        self.replay_counter = 1\n",
        "        #self.ttt = t\n",
        "        self.get_legal_actions = get_legal_actions\n",
        "        \n",
        "       # print(self.ttt)\n",
        "\n",
        "    def remember(self, state, action, reward, next_state, done):\n",
        "        #Function adds information to the memory about last action and its results\n",
        "        self.memory.append((state, action, reward, next_state, done)) \n",
        "\n",
        "    def get_action(self, state):\n",
        "        possible_actions = self.get_legal_actions(state)  \n",
        "        epsilon = self.epsilon  \n",
        "        if random.random()<epsilon:\n",
        "            chosen_action = random.choice(possible_actions)\n",
        "        else:   \n",
        "            chosen_action = self.get_best_action(state) \n",
        "        return chosen_action\n",
        "\n",
        "  \n",
        "    def get_best_action(self, state):\n",
        "        return np.argmax(self.model.predict(state))\n",
        "\n",
        "\n",
        "    def replay(self, batch_size):\n",
        "\n",
        "        if batch_size > len(self.memory):\n",
        "          raise NameError('!!! To BIG batch_size !!! Should be lower than: ',len(self.memory))\n",
        "\n",
        "        nasz_batch = random.sample(self.memory,batch_size)\n",
        "        x = []\n",
        "        y = []\n",
        "        for sample in nasz_batch:\n",
        "          state, action, reward, next_state, done = sample\n",
        "          x.append(state.flatten())\n",
        "          target = self.model.predict(state)\n",
        "          #target = self.target_model.predict(state)\n",
        "          if done:\n",
        "            target[0][action] = reward\n",
        "          else:\n",
        "            target[0][action] = reward + self.gamma * max(self.target_model.predict(next_state)[0])\n",
        "          y.append(target.flatten())\n",
        "\n",
        "        self.model.train_on_batch(np.array(x), np.array(y))\n",
        "        self.update_epsilon_value()\n",
        "        \n",
        "        if self.replay_counter == 10: \n",
        "          self.replay_counter = 0\n",
        "          self.update_weights()\n",
        "        else:\n",
        "          self.replay_counter += 1\n",
        "\n",
        "    def update_epsilon_value(self):\n",
        "      temp = self.epsilon*self.epsilon_decay\n",
        "      if temp < self.epsilon_min:\n",
        "          self.epsilon = self.epsilon_min\n",
        "      else:\n",
        "          self.epsilon = temp\n",
        "\n",
        "    def update_weights(self):\n",
        "      t = 0.7\n",
        "      weights = model.get_weights()\n",
        "      target_weights = self.target_model.get_weights()\n",
        "      #print(weights)\n",
        "      for i in range(len(target_weights)):\n",
        "        target_weights[i] = t* weights[i] + (1-t)*target_weights[i] \n",
        "\n",
        "      self.target_model.set_weights(target_weights)\n"
      ],
      "execution_count": null,
      "outputs": []
    },
    {
      "cell_type": "markdown",
      "metadata": {
        "id": "wpdbLbmKI924"
      },
      "source": [
        "Czas przygotować model sieci, która będzie się uczyła działania w środowisku [*CartPool*](https://gym.openai.com/envs/CartPole-v0/):"
      ]
    },
    {
      "cell_type": "code",
      "metadata": {
        "id": "zLBJzTaNI924"
      },
      "source": [
        "env = gym.make(\"CartPole-v0\").env\n",
        "state_size = env.observation_space.shape[0]\n",
        "action_size = env.action_space.n\n",
        "learning_rate = 0.001\n",
        "\n",
        "model = [\n",
        "    Dense(64, input_dim=state_size,activation='relu'),#ten super, wygrywa w 7 przjsciu\n",
        "    Dense(128,activation='relu'),\n",
        "    Dense(256,activation='relu'),\n",
        "    #Dropout(0.5),\n",
        "    Dense(64,activation='relu'),\n",
        "    Dense(16,activation='relu'),\n",
        "    Dense(action_size)#,activation='softmax'\n",
        "] \n",
        "model = Sequential(model)\n",
        "model.compile(loss=\"mean_squared_error\",\n",
        "             optimizer=Adam(lr=learning_rate))"
      ],
      "execution_count": null,
      "outputs": []
    },
    {
      "cell_type": "markdown",
      "metadata": {
        "id": "jeEzQ9qtI925"
      },
      "source": [
        "Czas nauczyć agenta gry w środowisku *CartPool*:"
      ]
    },
    {
      "cell_type": "code",
      "metadata": {
        "id": "v7PPWT--I926",
        "colab": {
          "base_uri": "https://localhost:8080/"
        },
        "outputId": "47a679a0-a320-49fb-80fd-c004e6e8ad6d"
      },
      "source": [
        "import types\n",
        "def get_possible_actions(self, state):\n",
        "    \"\"\" return a tuple of possible actions in a given state \"\"\"\n",
        "    return [0,1]\n",
        "env.get_possible_actions = types.MethodType(get_possible_actions, env)\n",
        "\n",
        "agent = DDQNAgent(state_size, action_size, env.get_possible_actions, model)\n",
        "\n",
        "agent.epsilon = 0.75\n",
        "\n",
        "done = False\n",
        "batch_size = 64\n",
        "EPISODES = 1000\n",
        "counter = 0\n",
        "for e in range(EPISODES):\n",
        "    summary = []\n",
        "    for _ in range(100):\n",
        "        total_reward = 0\n",
        "        env_state = env.reset()\n",
        "    \n",
        "        #\n",
        "        # INSERT CODE HERE to prepare appropriate format of the state for network\n",
        "        #\n",
        "        state = np.array([np.array(env_state).flatten()])\n",
        "        \n",
        "        for time in range(500):\n",
        "            action = agent.get_action(state)\n",
        "            next_state_env, reward, done, _ = env.step(action)\n",
        "            total_reward += reward\n",
        "\n",
        "            #\n",
        "            # INSERT CODE HERE to prepare appropriate format of the next state for network\n",
        "            #\n",
        "            next_state = np.array([np.array(next_state_env).flatten()])\n",
        "            #add to experience memory\n",
        "            agent.remember(state, action, reward, next_state, done)\n",
        "            state = next_state\n",
        "            if done:\n",
        "                break\n",
        "\n",
        "        #\n",
        "        # INSERT CODE HERE to train network if in the memory is more samples then size of the batch\n",
        "        #\n",
        "        if len(agent.memory) > batch_size:\n",
        "          agent.replay(batch_size)\n",
        "        summary.append(total_reward)\n",
        "        \n",
        "    print(\"epoch #{}\\tmean reward = {:.3f}\\tepsilon = {:.3f}\".format(e, np.mean(summary), agent.epsilon))    \n",
        "    \n",
        "    if np.mean(summary) > 195:\n",
        "        print (\"You Win!\")\n",
        "        break\n"
      ],
      "execution_count": null,
      "outputs": [
        {
          "output_type": "stream",
          "text": [
            "WARNING:tensorflow:From /tensorflow-1.15.2/python3.6/keras/backend/tensorflow_backend.py:422: The name tf.global_variables is deprecated. Please use tf.compat.v1.global_variables instead.\n",
            "\n",
            "epoch #0\tmean reward = 11.580\tepsilon = 0.010\n",
            "epoch #1\tmean reward = 15.320\tepsilon = 0.010\n",
            "epoch #2\tmean reward = 48.640\tepsilon = 0.010\n",
            "epoch #3\tmean reward = 135.040\tepsilon = 0.010\n",
            "epoch #4\tmean reward = 118.150\tepsilon = 0.010\n",
            "epoch #5\tmean reward = 183.130\tepsilon = 0.010\n",
            "epoch #6\tmean reward = 195.350\tepsilon = 0.010\n",
            "You Win!\n"
          ],
          "name": "stdout"
        }
      ]
    },
    {
      "cell_type": "code",
      "metadata": {
        "id": "qBQoYE5CVCCW"
      },
      "source": [
        "#JESZCZE DRUGA PROBA, tym razem  epsilon_decay = 0.999"
      ],
      "execution_count": null,
      "outputs": []
    },
    {
      "cell_type": "code",
      "metadata": {
        "colab": {
          "base_uri": "https://localhost:8080/"
        },
        "id": "Qxcz_b3cW4S9",
        "outputId": "2b318f37-dc22-4957-919c-38596778dccc"
      },
      "source": [
        "import types\r\n",
        "def get_possible_actions(self, state):\r\n",
        "    \"\"\" return a tuple of possible actions in a given state \"\"\"\r\n",
        "    return [0,1]\r\n",
        "env.get_possible_actions = types.MethodType(get_possible_actions, env)\r\n",
        "\r\n",
        "agent = DDQNAgent(state_size, action_size, env.get_possible_actions, model)\r\n",
        "\r\n",
        "agent.epsilon = 0.75\r\n",
        "\r\n",
        "done = False\r\n",
        "batch_size = 64\r\n",
        "EPISODES = 1000\r\n",
        "counter = 0\r\n",
        "for e in range(EPISODES):\r\n",
        "    summary = []\r\n",
        "    for _ in range(100):\r\n",
        "        total_reward = 0\r\n",
        "        env_state = env.reset()\r\n",
        "    \r\n",
        "        #\r\n",
        "        # INSERT CODE HERE to prepare appropriate format of the state for network\r\n",
        "        #\r\n",
        "        state = np.array([np.array(env_state).flatten()])\r\n",
        "        \r\n",
        "        for time in range(500):\r\n",
        "            action = agent.get_action(state)\r\n",
        "            next_state_env, reward, done, _ = env.step(action)\r\n",
        "            total_reward += reward\r\n",
        "\r\n",
        "            #\r\n",
        "            # INSERT CODE HERE to prepare appropriate format of the next state for network\r\n",
        "            #\r\n",
        "            next_state = np.array([np.array(next_state_env).flatten()])\r\n",
        "            #add to experience memory\r\n",
        "            agent.remember(state, action, reward, next_state, done)\r\n",
        "            state = next_state\r\n",
        "            if done:\r\n",
        "                break\r\n",
        "\r\n",
        "        #\r\n",
        "        # INSERT CODE HERE to train network if in the memory is more samples then size of the batch\r\n",
        "        #\r\n",
        "        if len(agent.memory) > batch_size:\r\n",
        "          agent.replay(batch_size)\r\n",
        "        summary.append(total_reward)\r\n",
        "        \r\n",
        "    print(\"epoch #{}\\tmean reward = {:.3f}\\tepsilon = {:.3f}\".format(e, np.mean(summary), agent.epsilon))    \r\n",
        "    \r\n",
        "    if np.mean(summary) > 195:\r\n",
        "        print (\"You Win!\")\r\n",
        "        break\r\n"
      ],
      "execution_count": null,
      "outputs": [
        {
          "output_type": "stream",
          "text": [
            "epoch #0\tmean reward = 20.960\tepsilon = 0.679\n",
            "epoch #1\tmean reward = 30.370\tepsilon = 0.615\n",
            "epoch #2\tmean reward = 44.570\tepsilon = 0.556\n",
            "epoch #3\tmean reward = 55.390\tepsilon = 0.503\n",
            "epoch #4\tmean reward = 89.900\tepsilon = 0.455\n",
            "epoch #5\tmean reward = 172.810\tepsilon = 0.412\n",
            "epoch #6\tmean reward = 227.530\tepsilon = 0.373\n",
            "You Win!\n"
          ],
          "name": "stdout"
        }
      ]
    },
    {
      "cell_type": "code",
      "metadata": {
        "colab": {
          "base_uri": "https://localhost:8080/"
        },
        "id": "QTtl-afQW5O8",
        "outputId": "a41ef889-7fba-49fa-ac67-2a1432497b5c"
      },
      "source": [
        "#JESZCZE DRUGA PROBA, tym razem  epsilon_decay = 0.99\r\n",
        "import types\r\n",
        "def get_possible_actions(self, state):\r\n",
        "    \"\"\" return a tuple of possible actions in a given state \"\"\"\r\n",
        "    return [0,1]\r\n",
        "env.get_possible_actions = types.MethodType(get_possible_actions, env)\r\n",
        "\r\n",
        "agent = DDQNAgent(state_size, action_size, env.get_possible_actions, model)\r\n",
        "\r\n",
        "agent.epsilon = 0.75\r\n",
        "\r\n",
        "done = False\r\n",
        "batch_size = 64\r\n",
        "EPISODES = 1000\r\n",
        "counter = 0\r\n",
        "for e in range(EPISODES):\r\n",
        "    summary = []\r\n",
        "    for _ in range(100):\r\n",
        "        total_reward = 0\r\n",
        "        env_state = env.reset()\r\n",
        "    \r\n",
        "        #\r\n",
        "        # INSERT CODE HERE to prepare appropriate format of the state for network\r\n",
        "        #\r\n",
        "        state = np.array([np.array(env_state).flatten()])\r\n",
        "        \r\n",
        "        for time in range(500):\r\n",
        "            action = agent.get_action(state)\r\n",
        "            next_state_env, reward, done, _ = env.step(action)\r\n",
        "            total_reward += reward\r\n",
        "\r\n",
        "            #\r\n",
        "            # INSERT CODE HERE to prepare appropriate format of the next state for network\r\n",
        "            #\r\n",
        "            next_state = np.array([np.array(next_state_env).flatten()])\r\n",
        "            #add to experience memory\r\n",
        "            agent.remember(state, action, reward, next_state, done)\r\n",
        "            state = next_state\r\n",
        "            if done:\r\n",
        "                break\r\n",
        "\r\n",
        "        #\r\n",
        "        # INSERT CODE HERE to train network if in the memory is more samples then size of the batch\r\n",
        "        #\r\n",
        "        if len(agent.memory) > batch_size:\r\n",
        "          agent.replay(batch_size)\r\n",
        "        summary.append(total_reward)\r\n",
        "        \r\n",
        "    print(\"epoch #{}\\tmean reward = {:.3f}\\tepsilon = {:.3f}\".format(e, np.mean(summary), agent.epsilon))    \r\n",
        "    \r\n",
        "    if np.mean(summary) > 195:\r\n",
        "        print (\"You Win!\")\r\n",
        "        break\r\n"
      ],
      "execution_count": null,
      "outputs": [
        {
          "output_type": "stream",
          "text": [
            "epoch #0\tmean reward = 207.640\tepsilon = 0.275\n",
            "You Win!\n"
          ],
          "name": "stdout"
        }
      ]
    },
    {
      "cell_type": "code",
      "metadata": {
        "colab": {
          "base_uri": "https://localhost:8080/"
        },
        "id": "EM6jX8M7XlvG",
        "outputId": "a03b0c0a-4898-4c27-eca2-b7944d56734f"
      },
      "source": [
        "#JESZCZE DRUGA PROBA, tym razem  epsilon_decay = 0.99, tak dla pewności\r\n",
        "import types\r\n",
        "def get_possible_actions(self, state):\r\n",
        "    \"\"\" return a tuple of possible actions in a given state \"\"\"\r\n",
        "    return [0,1]\r\n",
        "env.get_possible_actions = types.MethodType(get_possible_actions, env)\r\n",
        "\r\n",
        "agent = DDQNAgent(state_size, action_size, env.get_possible_actions, model)\r\n",
        "\r\n",
        "agent.epsilon = 0.75\r\n",
        "\r\n",
        "done = False\r\n",
        "batch_size = 64\r\n",
        "EPISODES = 1000\r\n",
        "counter = 0\r\n",
        "for e in range(EPISODES):\r\n",
        "    summary = []\r\n",
        "    for _ in range(100):\r\n",
        "        total_reward = 0\r\n",
        "        env_state = env.reset()\r\n",
        "    \r\n",
        "        #\r\n",
        "        # INSERT CODE HERE to prepare appropriate format of the state for network\r\n",
        "        #\r\n",
        "        state = np.array([np.array(env_state).flatten()])\r\n",
        "        \r\n",
        "        for time in range(500):\r\n",
        "            action = agent.get_action(state)\r\n",
        "            next_state_env, reward, done, _ = env.step(action)\r\n",
        "            total_reward += reward\r\n",
        "\r\n",
        "            #\r\n",
        "            # INSERT CODE HERE to prepare appropriate format of the next state for network\r\n",
        "            #\r\n",
        "            next_state = np.array([np.array(next_state_env).flatten()])\r\n",
        "            #add to experience memory\r\n",
        "            agent.remember(state, action, reward, next_state, done)\r\n",
        "            state = next_state\r\n",
        "            if done:\r\n",
        "                break\r\n",
        "\r\n",
        "        #\r\n",
        "        # INSERT CODE HERE to train network if in the memory is more samples then size of the batch\r\n",
        "        #\r\n",
        "        if len(agent.memory) > batch_size:\r\n",
        "          agent.replay(batch_size)\r\n",
        "        summary.append(total_reward)\r\n",
        "        \r\n",
        "    print(\"epoch #{}\\tmean reward = {:.3f}\\tepsilon = {:.3f}\".format(e, np.mean(summary), agent.epsilon))    \r\n",
        "    \r\n",
        "    if np.mean(summary) > 195:\r\n",
        "        print (\"You Win!\")\r\n",
        "        break"
      ],
      "execution_count": null,
      "outputs": [
        {
          "output_type": "stream",
          "text": [
            "epoch #0\tmean reward = 126.030\tepsilon = 0.277\n",
            "epoch #1\tmean reward = 313.950\tepsilon = 0.101\n",
            "You Win!\n"
          ],
          "name": "stdout"
        }
      ]
    },
    {
      "cell_type": "code",
      "metadata": {
        "id": "7mhlNL4_XzME"
      },
      "source": [
        ""
      ],
      "execution_count": null,
      "outputs": []
    }
  ]
}